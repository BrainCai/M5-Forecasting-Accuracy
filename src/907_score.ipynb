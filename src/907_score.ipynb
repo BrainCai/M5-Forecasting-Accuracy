{
 "cells": [
  {
   "cell_type": "code",
   "execution_count": 1,
   "metadata": {},
   "outputs": [],
   "source": [
    "import numpy as np\n",
    "import pandas as pd\n",
    "\n",
    "from utils import read_pickles, rmse\n",
    "from utils_score import WRMSSEEvaluator, calc_score_cv\n",
    "\n",
    "pd.set_option('display.max_columns', 100)\n",
    "\n",
    "%matplotlib inline"
   ]
  },
  {
   "cell_type": "code",
   "execution_count": 6,
   "metadata": {},
   "outputs": [],
   "source": [
    "# load csv files\n",
    "df = pd.read_csv('../input/sales_train_evaluation.csv')\n",
    "calendar = pd.read_csv('../input/calendar.csv')\n",
    "prices = pd.read_csv('../input/sell_prices.csv')\n",
    "sample_sub = pd.read_csv(\"../input/sample_submission.csv\")\n",
    "\n",
    "sample_sub[\"order\"] = range(sample_sub.shape[0])"
   ]
  },
  {
   "cell_type": "code",
   "execution_count": 2,
   "metadata": {},
   "outputs": [],
   "source": [
    "oof = pd.read_csv('../output/oof_lgbm_cv_28days.csv')\n",
    "\n",
    "oof_foods = pd.read_csv('../output/oof_lgbm_cv_foods.csv')\n",
    "oof_household = pd.read_csv('../output/oof_lgbm_cv_household.csv')\n",
    "oof_hobbies = pd.read_csv('../output/oof_lgbm_cv_hobbies.csv')\n",
    "\n",
    "oof_foods_g = pd.read_csv('../output/oof_lgbm_group_k_fold_foods.csv')\n",
    "oof_household_g = pd.read_csv('../output/oof_lgbm_group_k_fold_household.csv')\n",
    "oof_hobbies_g = pd.read_csv('../output/oof_lgbm_group_k_fold_hobbies.csv')"
   ]
  },
  {
   "cell_type": "code",
   "execution_count": 3,
   "metadata": {
    "scrolled": true
   },
   "outputs": [
    {
     "name": "stderr",
     "output_type": "stream",
     "text": [
      "100%|██████████| 12/12 [00:11<00:00,  1.08it/s]\n",
      "100%|██████████| 12/12 [00:11<00:00,  1.08it/s]\n",
      " 92%|█████████▏| 11/12 [00:05<00:00,  1.31it/s]/media/fujiwara/2THDD/M5-Forecasting-Accuracy/src/utils_score.py:56: RuntimeWarning: Mean of empty slice.\n",
      "  scale.append(((series[1:] - series[:-1]) ** 2).mean())\n",
      "/home/fujiwara/.pyenv/versions/anaconda3-5.2.0/lib/python3.6/site-packages/numpy/core/_methods.py:161: RuntimeWarning: invalid value encountered in double_scalars\n",
      "  ret = ret.dtype.type(ret / rcount)\n",
      "100%|██████████| 12/12 [00:10<00:00,  1.16it/s]\n"
     ]
    }
   ],
   "source": [
    "oof = pd.read_csv('../output/oof_lgbm_cv_28days.csv')\n",
    "scores = calc_score_cv(oof)"
   ]
  },
  {
   "cell_type": "code",
   "execution_count": 4,
   "metadata": {
    "scrolled": true
   },
   "outputs": [],
   "source": [
    "end_train=1941\n",
    "cols_valid1 = [f'd_{c}' for c in range(end_train-28+1,end_train+1)]\n",
    "cols_valid2 = [f'd_{c}' for c in range(end_train-28*2+1,end_train-28+1)]\n",
    "cols_valid2 = [f'd_{c}' for c in range(end_train-365+1,end_train-365+28+1)]"
   ]
  },
  {
   "cell_type": "code",
   "execution_count": 6,
   "metadata": {
    "scrolled": true
   },
   "outputs": [
    {
     "data": {
      "text/plain": [
       "0.618596"
      ]
     },
     "execution_count": 6,
     "metadata": {},
     "output_type": "execute_result"
    }
   ],
   "source": [
    "round(np.mean(scores),6)"
   ]
  },
  {
   "cell_type": "code",
   "execution_count": 7,
   "metadata": {},
   "outputs": [
    {
     "name": "stderr",
     "output_type": "stream",
     "text": [
      "100%|██████████| 12/12 [00:11<00:00,  1.06it/s]\n",
      "100%|██████████| 12/12 [00:11<00:00,  1.08it/s]\n",
      " 92%|█████████▏| 11/12 [00:05<00:00,  1.33it/s]/media/fujiwara/2THDD/M5-Forecasting-Accuracy/src/utils_score.py:56: RuntimeWarning: Mean of empty slice.\n",
      "  scale.append(((series[1:] - series[:-1]) ** 2).mean())\n",
      "/home/fujiwara/.pyenv/versions/anaconda3-5.2.0/lib/python3.6/site-packages/numpy/core/_methods.py:161: RuntimeWarning: invalid value encountered in double_scalars\n",
      "  ret = ret.dtype.type(ret / rcount)\n",
      "100%|██████████| 12/12 [00:10<00:00,  1.20it/s]\n"
     ]
    }
   ],
   "source": [
    "df_train1 = df.iloc[:, :-28]\n",
    "df_valid1 = df.iloc[:, -28:]\n",
    "\n",
    "evaluator1 = WRMSSEEvaluator(df_train1, df_valid1, calendar, prices)\n",
    "\n",
    "df_train2 = df.iloc[:, :-28*2]\n",
    "df_valid2 = df.iloc[:, -28*2:-28]\n",
    "\n",
    "evaluator2 = WRMSSEEvaluator(df_train2, df_valid2, calendar, prices)\n",
    "\n",
    "df_train3 = df.iloc[:, :-365]\n",
    "df_valid3 = df.iloc[:, -365:-365+28]\n",
    "\n",
    "evaluator3 = WRMSSEEvaluator(df_train3, df_valid3, calendar, prices)"
   ]
  },
  {
   "cell_type": "code",
   "execution_count": 5,
   "metadata": {
    "scrolled": true
   },
   "outputs": [],
   "source": [
    "oof = pd.melt(oof,id_vars='id',var_name='d',value_name='demand')"
   ]
  },
  {
   "cell_type": "code",
   "execution_count": 6,
   "metadata": {
    "scrolled": true
   },
   "outputs": [],
   "source": [
    "oof['d_numeric']=oof['d'].apply(lambda x: str(x)[2:]).astype(int)\n",
    "valid1 = oof[(oof['d_numeric']>1941-28)&(oof['d_numeric']<=1941)]\n",
    "valid2 = oof[(oof['d_numeric']>1941-28*2)&(oof['d_numeric']<=1941-28)]\n",
    "valid3 = oof[(oof['d_numeric']>1941-365)&(oof['d_numeric']<=1941-365+28)]"
   ]
  },
  {
   "cell_type": "code",
   "execution_count": 7,
   "metadata": {
    "scrolled": true
   },
   "outputs": [],
   "source": [
    "valid1 = valid1[['id','d','demand']].pivot(index='id', columns='d', values='demand').reset_index()\n",
    "valid2 = valid2[['id','d','demand']].pivot(index='id', columns='d', values='demand').reset_index()\n",
    "valid3 = valid3[['id','d','demand']].pivot(index='id', columns='d', values='demand').reset_index()"
   ]
  },
  {
   "cell_type": "code",
   "execution_count": 8,
   "metadata": {
    "scrolled": true
   },
   "outputs": [
    {
     "name": "stdout",
     "output_type": "stream",
     "text": [
      "all_id 0.5078660464328384\n",
      "cat_id 0.5128658824289202\n",
      "state_id 0.5185990485844362\n",
      "dept_id 0.546743222367672\n",
      "store_id 0.5865948380721752\n",
      "item_id 0.8575593943805533\n",
      "['state_id', 'cat_id'] 0.5440950528493967\n",
      "['state_id', 'dept_id'] 0.578590245245477\n",
      "['store_id', 'cat_id'] 0.6185037667846648\n",
      "['store_id', 'dept_id'] 0.6645376682960282\n",
      "['item_id', 'state_id'] 0.8528208753122966\n",
      "['item_id', 'store_id'] 0.8464674726840481\n",
      "0.6362702927865422\n"
     ]
    }
   ],
   "source": [
    "cols_d1 = [c for c in valid1.columns if 'd_' in c]\n",
    "valid1 = valid1.merge(sample_sub[[\"id\", \"order\"]], on = \"id\").sort_values(\"order\").drop([\"id\", \"order\"], axis = 1).reset_index(drop = True)\n",
    "groups, scores = evaluator1.score(valid1[cols_d1])\n",
    "for g, s in zip(groups, scores):\n",
    "    print(g,s)\n",
    "\n",
    "print(np.mean(scores))"
   ]
  },
  {
   "cell_type": "code",
   "execution_count": 9,
   "metadata": {
    "scrolled": true
   },
   "outputs": [
    {
     "name": "stdout",
     "output_type": "stream",
     "text": [
      "all_id 0.23876481681170472\n",
      "cat_id 0.2932664800507613\n",
      "state_id 0.3309030441526736\n",
      "dept_id 0.3757801475414047\n",
      "store_id 0.4552217259552134\n",
      "item_id 0.8431094842694788\n",
      "['state_id', 'cat_id'] 0.39848028144125025\n",
      "['state_id', 'dept_id'] 0.47419660613327347\n",
      "['store_id', 'cat_id'] 0.5323033338349706\n",
      "['store_id', 'dept_id'] 0.5938330362618495\n",
      "['item_id', 'state_id'] 0.8511709197879268\n",
      "['item_id', 'store_id'] 0.8464000135889933\n",
      "0.519452490819125\n"
     ]
    }
   ],
   "source": [
    "cols_d2 = [c for c in valid2.columns if 'd_' in c]\n",
    "valid2 = valid2.merge(sample_sub[[\"id\", \"order\"]], on = \"id\").sort_values(\"order\").drop([\"id\", \"order\"], axis = 1).reset_index(drop = True)\n",
    "groups, scores = evaluator2.score(valid2[cols_d2])\n",
    "for g, s in zip(groups, scores):\n",
    "    print(g,s)\n",
    "\n",
    "print(np.mean(scores))"
   ]
  },
  {
   "cell_type": "code",
   "execution_count": 10,
   "metadata": {
    "scrolled": true
   },
   "outputs": [
    {
     "name": "stdout",
     "output_type": "stream",
     "text": [
      "all_id 0.5351364652296812\n",
      "cat_id 0.5585523063098284\n",
      "state_id 0.6247569109831275\n",
      "dept_id 0.5808966657090066\n",
      "store_id 0.6751412563742194\n",
      "item_id 0.9373676687454482\n",
      "['state_id', 'cat_id'] 0.6381713151941524\n",
      "['state_id', 'dept_id'] 0.6700222435604216\n",
      "['store_id', 'cat_id'] 0.698149278512715\n",
      "['store_id', 'dept_id'] 0.7348639271569829\n",
      "['item_id', 'state_id'] 0.8953994576864794\n",
      "['item_id', 'store_id'] 0.8523123679951605\n",
      "0.7000641552881018\n"
     ]
    }
   ],
   "source": [
    "cols_d3 = [c for c in valid3.columns if 'd_' in c]\n",
    "valid3 = valid3.merge(sample_sub[[\"id\", \"order\"]], on = \"id\").sort_values(\"order\").drop([\"id\", \"order\"], axis = 1).reset_index(drop = True)\n",
    "groups, scores = evaluator3.score(valid3[cols_d3])\n",
    "for g, s in zip(groups, scores):\n",
    "    print(g,s)\n",
    "\n",
    "print(np.mean(scores))"
   ]
  },
  {
   "cell_type": "code",
   "execution_count": 11,
   "metadata": {},
   "outputs": [
    {
     "data": {
      "text/plain": [
       "0.6185956462979231"
      ]
     },
     "execution_count": 11,
     "metadata": {},
     "output_type": "execute_result"
    }
   ],
   "source": [
    "np.mean([0.6362702927865422,0.519452490819125,0.7000641552881018])"
   ]
  },
  {
   "cell_type": "code",
   "execution_count": 15,
   "metadata": {},
   "outputs": [],
   "source": [
    "oof2 = oof_foods.append(oof_household)\n",
    "oof2 = oof2.append(oof_hobbies)"
   ]
  },
  {
   "cell_type": "code",
   "execution_count": 29,
   "metadata": {},
   "outputs": [],
   "source": [
    "oof2['d_numeric']=oof2['d'].apply(lambda x: str(x)[2:]).astype(int)\n",
    "valid2_1 = oof2[(oof2['d_numeric']>1941-28)&(oof2['d_numeric']<=1941)]\n",
    "valid2_2 = oof2[(oof2['d_numeric']>1941-28*2)&(oof2['d_numeric']<=1941-28)]\n",
    "valid2_3 = oof2[(oof2['d_numeric']>1941-365)&(oof2['d_numeric']<=1941-365+28)]"
   ]
  },
  {
   "cell_type": "code",
   "execution_count": 30,
   "metadata": {},
   "outputs": [],
   "source": [
    "valid2_1 = valid2_1[['id','d','demand']].pivot(index='id', columns='d', values='demand').reset_index()\n",
    "valid2_2 = valid2_2[['id','d','demand']].pivot(index='id', columns='d', values='demand').reset_index()\n",
    "valid2_3 = valid2_3[['id','d','demand']].pivot(index='id', columns='d', values='demand').reset_index()"
   ]
  },
  {
   "cell_type": "code",
   "execution_count": 37,
   "metadata": {},
   "outputs": [],
   "source": [
    "valid2 = oof2[['id','d','demand']].pivot(index='id', columns='d', values='demand').reset_index()"
   ]
  },
  {
   "cell_type": "code",
   "execution_count": 31,
   "metadata": {},
   "outputs": [
    {
     "name": "stdout",
     "output_type": "stream",
     "text": [
      "all_id 0.5121444185250336\n",
      "cat_id 0.5235582464825189\n",
      "state_id 0.5272711967653047\n",
      "dept_id 0.5534818341478575\n",
      "store_id 0.5942724591602403\n",
      "item_id 0.8689089732407096\n",
      "['state_id', 'cat_id'] 0.5630643276436076\n",
      "['state_id', 'dept_id'] 0.5983907118039524\n",
      "['store_id', 'cat_id'] 0.6378993022226473\n",
      "['store_id', 'dept_id'] 0.6830731891455724\n",
      "['item_id', 'state_id'] 0.8597160607222496\n",
      "['item_id', 'store_id'] 0.8500155098176712\n",
      "0.6476496858064471\n"
     ]
    }
   ],
   "source": [
    "valid2_1 = valid2_1.merge(sample_sub[[\"id\", \"order\"]], on = \"id\").sort_values(\"order\").drop([\"id\", \"order\"], axis = 1).reset_index(drop = True)\n",
    "groups, scores = evaluator1.score(valid2_1[cols_d1])\n",
    "for g, s in zip(groups, scores):\n",
    "    print(g,s)\n",
    "\n",
    "print(np.mean(scores))"
   ]
  },
  {
   "cell_type": "code",
   "execution_count": 38,
   "metadata": {},
   "outputs": [
    {
     "name": "stdout",
     "output_type": "stream",
     "text": [
      "all_id 0.5121444185250336\n",
      "cat_id 0.5235582464825189\n",
      "state_id 0.5272711967653047\n",
      "dept_id 0.5534818341478575\n",
      "store_id 0.5942724591602403\n",
      "item_id 0.8689089732407096\n",
      "['state_id', 'cat_id'] 0.5630643276436076\n",
      "['state_id', 'dept_id'] 0.5983907118039524\n",
      "['store_id', 'cat_id'] 0.6378993022226473\n",
      "['store_id', 'dept_id'] 0.6830731891455724\n",
      "['item_id', 'state_id'] 0.8597160607222496\n",
      "['item_id', 'store_id'] 0.8500155098176712\n",
      "0.6476496858064471\n"
     ]
    }
   ],
   "source": [
    "valid2 = valid2.merge(sample_sub[[\"id\", \"order\"]], on = \"id\").sort_values(\"order\").drop([\"id\", \"order\"], axis = 1).reset_index(drop = True)\n",
    "groups, scores = evaluator1.score(valid2[cols_d1])\n",
    "for g, s in zip(groups, scores):\n",
    "    print(g,s)\n",
    "\n",
    "print(np.mean(scores))"
   ]
  },
  {
   "cell_type": "code",
   "execution_count": 32,
   "metadata": {
    "scrolled": true
   },
   "outputs": [
    {
     "name": "stdout",
     "output_type": "stream",
     "text": [
      "all_id 0.2517976415467098\n",
      "cat_id 0.33776027901238787\n",
      "state_id 0.34024402784247093\n",
      "dept_id 0.41735888781365443\n",
      "store_id 0.4393869525687345\n",
      "item_id 0.8436682976169463\n",
      "['state_id', 'cat_id'] 0.42958707634931004\n",
      "['state_id', 'dept_id'] 0.507937845501746\n",
      "['store_id', 'cat_id'] 0.5299036093834514\n",
      "['store_id', 'dept_id'] 0.5977077457508813\n",
      "['item_id', 'state_id'] 0.8513368254570093\n",
      "['item_id', 'store_id'] 0.8465023907433411\n",
      "0.5327659649655535\n"
     ]
    }
   ],
   "source": [
    "valid2_2 = valid2_2.merge(sample_sub[[\"id\", \"order\"]], on = \"id\").sort_values(\"order\").drop([\"id\", \"order\"], axis = 1).reset_index(drop = True)\n",
    "groups, scores = evaluator2.score(valid2_2[cols_d2])\n",
    "for g, s in zip(groups, scores):\n",
    "    print(g,s)\n",
    "\n",
    "print(np.mean(scores))"
   ]
  },
  {
   "cell_type": "code",
   "execution_count": null,
   "metadata": {},
   "outputs": [],
   "source": [
    "valid2_2 = valid2_2.merge(sample_sub[[\"id\", \"order\"]], on = \"id\").sort_values(\"order\").drop([\"id\", \"order\"], axis = 1).reset_index(drop = True)\n",
    "groups, scores = evaluator2.score(valid2_2[cols_d2])\n",
    "for g, s in zip(groups, scores):\n",
    "    print(g,s)\n",
    "\n",
    "print(np.mean(scores))"
   ]
  },
  {
   "cell_type": "code",
   "execution_count": 39,
   "metadata": {
    "scrolled": true
   },
   "outputs": [
    {
     "name": "stdout",
     "output_type": "stream",
     "text": [
      "all_id 0.5447619502922475\n",
      "cat_id 0.5529630486180929\n",
      "state_id 0.6312995521786061\n",
      "dept_id 0.5721278672947046\n",
      "store_id 0.6803157356690829\n",
      "item_id 0.9330058751286124\n",
      "['state_id', 'cat_id'] 0.6331011075059556\n",
      "['state_id', 'dept_id'] 0.6571211974699147\n",
      "['store_id', 'cat_id'] 0.6912383863647799\n",
      "['store_id', 'dept_id'] 0.7242997080644101\n",
      "['item_id', 'state_id'] 0.8923241558560997\n",
      "['item_id', 'store_id'] 0.8506716727404239\n",
      "0.6969358547652442\n"
     ]
    }
   ],
   "source": [
    "groups, scores = evaluator3.score(valid2[cols_d3])\n",
    "for g, s in zip(groups, scores):\n",
    "    print(g,s)\n",
    "\n",
    "print(np.mean(scores))"
   ]
  },
  {
   "cell_type": "code",
   "execution_count": 2,
   "metadata": {
    "scrolled": true
   },
   "outputs": [],
   "source": [
    "# load out of fold files\n",
    "oof_28days = pd.read_csv(\"../output/oof_lgbm_28days.csv\")\n",
    "oof_21days = pd.read_csv(\"../output/oof_lgbm_21days.csv\")\n",
    "oof_14days = pd.read_csv(\"../output/oof_lgbm_14days.csv\")\n",
    "oof_7days  = pd.read_csv(\"../output/oof_lgbm_7days.csv\")\n",
    "\n",
    "# to pivot\n",
    "oof_28days = oof_28days.pivot(index='id', columns='d', values='demand').reset_index()\n",
    "oof_21days = oof_21days.pivot(index='id', columns='d', values='demand').reset_index()\n",
    "oof_14days = oof_14days.pivot(index='id', columns='d', values='demand').reset_index()\n",
    "oof_7days  = oof_7days.pivot(index='id', columns='d', values='demand').reset_index()"
   ]
  },
  {
   "cell_type": "code",
   "execution_count": 19,
   "metadata": {
    "scrolled": true
   },
   "outputs": [],
   "source": [
    "valid_col_28days_fold1 = [f'd_{i+1}' for i in range(1913+21,1913+28)]\n",
    "valid_col_21days_fold1 = [f'd_{i+1}' for i in range(1913+14,1913+21)]\n",
    "valid_col_14days_fold1 = [f'd_{i+1}' for i in range(1913+7,1913+14)]\n",
    "valid_col_7days_fold1  = [f'd_{i+1}' for i in range(1913,1913+7)]\n",
    "\n",
    "valid_col_28days_fold2 = [f'd_{i+1}' for i in range(1885+21,1885+28)]\n",
    "valid_col_21days_fold2 = [f'd_{i+1}' for i in range(1885+14,1885+21)]\n",
    "valid_col_14days_fold2 = [f'd_{i+1}' for i in range(1885+7,1885+14)]\n",
    "valid_col_7days_fold2  = [f'd_{i+1}' for i in range(1885,1885+7)]\n",
    "\n",
    "valid_col_28days_fold3 = [f'd_{i+1}' for i in range(1576+21,1576+28)]\n",
    "valid_col_21days_fold3 = [f'd_{i+1}' for i in range(1576+14,1576+21)]\n",
    "valid_col_14days_fold3 = [f'd_{i+1}' for i in range(1576+7,1576+14)]\n",
    "valid_col_7days_fold3  = [f'd_{i+1}' for i in range(1576,1576+7)]\n"
   ]
  },
  {
   "cell_type": "code",
   "execution_count": 20,
   "metadata": {
    "scrolled": true
   },
   "outputs": [],
   "source": [
    "oof = oof_28days[['id']+valid_col_28days_fold1].merge(oof_28days[['id']+valid_col_28days_fold2],on='id',how='left')\n",
    "oof = oof.merge(oof_28days[['id']+valid_col_28days_fold3],on='id',how='left')\n",
    "\n",
    "oof = oof.merge(oof_21days[['id']+valid_col_21days_fold1],on='id',how='left')\n",
    "oof = oof.merge(oof_21days[['id']+valid_col_21days_fold2],on='id',how='left')\n",
    "oof = oof.merge(oof_21days[['id']+valid_col_21days_fold3],on='id',how='left')\n",
    "\n",
    "oof = oof.merge(oof_14days[['id']+valid_col_14days_fold1],on='id',how='left')\n",
    "oof = oof.merge(oof_14days[['id']+valid_col_14days_fold2],on='id',how='left')\n",
    "oof = oof.merge(oof_14days[['id']+valid_col_14days_fold3],on='id',how='left')\n",
    "\n",
    "oof = oof.merge(oof_7days[['id']+valid_col_7days_fold1],on='id',how='left')\n",
    "oof = oof.merge(oof_7days[['id']+valid_col_7days_fold2],on='id',how='left')\n",
    "oof = oof.merge(oof_7days[['id']+valid_col_7days_fold3],on='id',how='left')"
   ]
  },
  {
   "cell_type": "code",
   "execution_count": 21,
   "metadata": {
    "scrolled": true
   },
   "outputs": [
    {
     "name": "stderr",
     "output_type": "stream",
     "text": [
      "100%|██████████| 12/12 [00:09<00:00,  1.25it/s]\n",
      "100%|██████████| 12/12 [00:09<00:00,  1.28it/s]\n",
      " 92%|█████████▏| 11/12 [00:04<00:00,  1.56it/s]/media/fujiwara/2THDD/M5-Forecasting-Accuracy/src/utils_score.py:56: RuntimeWarning: Mean of empty slice.\n",
      "  scale.append(((series[1:] - series[:-1]) ** 2).mean())\n",
      "/home/fujiwara/.pyenv/versions/anaconda3-5.2.0/lib/python3.6/site-packages/numpy/core/_methods.py:161: RuntimeWarning: invalid value encountered in double_scalars\n",
      "  ret = ret.dtype.type(ret / rcount)\n",
      "100%|██████████| 12/12 [00:08<00:00,  1.39it/s]\n"
     ]
    },
    {
     "data": {
      "text/plain": [
       "[0.4700711520309957, 0.48544545331938577, 0.5158661214653393]"
      ]
     },
     "execution_count": 21,
     "metadata": {},
     "output_type": "execute_result"
    }
   ],
   "source": [
    "scores = calc_score_cv(oof)\n",
    "scores"
   ]
  },
  {
   "cell_type": "code",
   "execution_count": 15,
   "metadata": {
    "scrolled": true
   },
   "outputs": [
    {
     "data": {
      "text/plain": [
       "['d_1597', 'd_1598', 'd_1599', 'd_1600', 'd_1601', 'd_1602', 'd_1603']"
      ]
     },
     "execution_count": 15,
     "metadata": {},
     "output_type": "execute_result"
    }
   ],
   "source": [
    "valid_col_28days_fold3"
   ]
  },
  {
   "cell_type": "code",
   "execution_count": 16,
   "metadata": {},
   "outputs": [],
   "source": [
    "# split oof by folds\n",
    "end_train=1941\n",
    "cols_valid1 = [f'd_{c}' for c in range(end_train-28+1,end_train+1)]\n",
    "cols_valid2 = [f'd_{c}' for c in range(end_train-28*2+1,end_train-28+1)]\n",
    "cols_valid3 = [f'd_{c}' for c in range(end_train-365+1,end_train-365+28+1)]"
   ]
  },
  {
   "cell_type": "code",
   "execution_count": 18,
   "metadata": {},
   "outputs": [
    {
     "data": {
      "text/plain": [
       "['d_1577',\n",
       " 'd_1578',\n",
       " 'd_1579',\n",
       " 'd_1580',\n",
       " 'd_1581',\n",
       " 'd_1582',\n",
       " 'd_1583',\n",
       " 'd_1584',\n",
       " 'd_1585',\n",
       " 'd_1586',\n",
       " 'd_1587',\n",
       " 'd_1588',\n",
       " 'd_1589',\n",
       " 'd_1590',\n",
       " 'd_1591',\n",
       " 'd_1592',\n",
       " 'd_1593',\n",
       " 'd_1594',\n",
       " 'd_1595',\n",
       " 'd_1596',\n",
       " 'd_1597',\n",
       " 'd_1598',\n",
       " 'd_1599',\n",
       " 'd_1600',\n",
       " 'd_1601',\n",
       " 'd_1602',\n",
       " 'd_1603',\n",
       " 'd_1604']"
      ]
     },
     "execution_count": 18,
     "metadata": {},
     "output_type": "execute_result"
    }
   ],
   "source": [
    "cols_valid3"
   ]
  },
  {
   "cell_type": "code",
   "execution_count": null,
   "metadata": {},
   "outputs": [],
   "source": []
  }
 ],
 "metadata": {
  "kernelspec": {
   "display_name": "Python 3",
   "language": "python",
   "name": "python3"
  },
  "language_info": {
   "codemirror_mode": {
    "name": "ipython",
    "version": 3
   },
   "file_extension": ".py",
   "mimetype": "text/x-python",
   "name": "python",
   "nbconvert_exporter": "python",
   "pygments_lexer": "ipython3",
   "version": "3.6.8"
  }
 },
 "nbformat": 4,
 "nbformat_minor": 2
}
