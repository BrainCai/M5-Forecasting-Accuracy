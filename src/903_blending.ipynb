{
 "cells": [
  {
   "cell_type": "code",
   "execution_count": 1,
   "metadata": {},
   "outputs": [],
   "source": [
    "import pandas as pd\n",
    "import numpy as np\n",
    "\n",
    "pd.set_option('display.max_columns', 100)\n",
    "\n",
    "%matplotlib inline"
   ]
  },
  {
   "cell_type": "code",
   "execution_count": 22,
   "metadata": {},
   "outputs": [],
   "source": [
    "sub1 = pd.read_csv('../input/sub_058724.csv',index_col=0)\n",
    "sub2 = pd.read_csv('../input/sub_057330.csv',index_col=0)\n",
    "sub3 = pd.read_csv('../input/sub_060016.csv',index_col=0)"
   ]
  },
  {
   "cell_type": "code",
   "execution_count": 12,
   "metadata": {},
   "outputs": [],
   "source": [
    "sub = 0.5*sub1 + 0.5*sub2"
   ]
  },
  {
   "cell_type": "code",
   "execution_count": 14,
   "metadata": {
    "scrolled": true
   },
   "outputs": [
    {
     "data": {
      "text/html": [
       "<div>\n",
       "<style scoped>\n",
       "    .dataframe tbody tr th:only-of-type {\n",
       "        vertical-align: middle;\n",
       "    }\n",
       "\n",
       "    .dataframe tbody tr th {\n",
       "        vertical-align: top;\n",
       "    }\n",
       "\n",
       "    .dataframe thead th {\n",
       "        text-align: right;\n",
       "    }\n",
       "</style>\n",
       "<table border=\"1\" class=\"dataframe\">\n",
       "  <thead>\n",
       "    <tr style=\"text-align: right;\">\n",
       "      <th></th>\n",
       "      <th>id</th>\n",
       "      <th>F1</th>\n",
       "      <th>F2</th>\n",
       "      <th>F3</th>\n",
       "      <th>F4</th>\n",
       "      <th>F5</th>\n",
       "      <th>F6</th>\n",
       "      <th>F7</th>\n",
       "      <th>F8</th>\n",
       "      <th>F9</th>\n",
       "      <th>F10</th>\n",
       "      <th>F11</th>\n",
       "      <th>F12</th>\n",
       "      <th>F13</th>\n",
       "      <th>F14</th>\n",
       "      <th>F15</th>\n",
       "      <th>F16</th>\n",
       "      <th>F17</th>\n",
       "      <th>F18</th>\n",
       "      <th>F19</th>\n",
       "      <th>F20</th>\n",
       "      <th>F21</th>\n",
       "      <th>F22</th>\n",
       "      <th>F23</th>\n",
       "      <th>F24</th>\n",
       "      <th>F25</th>\n",
       "      <th>F26</th>\n",
       "      <th>F27</th>\n",
       "      <th>F28</th>\n",
       "    </tr>\n",
       "  </thead>\n",
       "  <tbody>\n",
       "    <tr>\n",
       "      <th>0</th>\n",
       "      <td>FOODS_1_001_CA_1_evaluation</td>\n",
       "      <td>0.549203</td>\n",
       "      <td>0.531174</td>\n",
       "      <td>0.525340</td>\n",
       "      <td>0.524438</td>\n",
       "      <td>0.565583</td>\n",
       "      <td>0.682668</td>\n",
       "      <td>0.665962</td>\n",
       "      <td>0.556160</td>\n",
       "      <td>0.532513</td>\n",
       "      <td>0.494929</td>\n",
       "      <td>0.501871</td>\n",
       "      <td>0.553102</td>\n",
       "      <td>0.647764</td>\n",
       "      <td>0.627365</td>\n",
       "      <td>0.511065</td>\n",
       "      <td>0.485863</td>\n",
       "      <td>0.476014</td>\n",
       "      <td>0.485303</td>\n",
       "      <td>0.535096</td>\n",
       "      <td>0.620696</td>\n",
       "      <td>0.604984</td>\n",
       "      <td>0.491429</td>\n",
       "      <td>0.477866</td>\n",
       "      <td>0.495769</td>\n",
       "      <td>0.477019</td>\n",
       "      <td>0.527207</td>\n",
       "      <td>0.624394</td>\n",
       "      <td>0.595931</td>\n",
       "    </tr>\n",
       "    <tr>\n",
       "      <th>1</th>\n",
       "      <td>FOODS_1_001_CA_1_validation</td>\n",
       "      <td>0.850751</td>\n",
       "      <td>0.729676</td>\n",
       "      <td>0.721737</td>\n",
       "      <td>0.667754</td>\n",
       "      <td>0.948209</td>\n",
       "      <td>1.017752</td>\n",
       "      <td>0.905417</td>\n",
       "      <td>0.883998</td>\n",
       "      <td>0.869726</td>\n",
       "      <td>0.955560</td>\n",
       "      <td>0.929619</td>\n",
       "      <td>1.011643</td>\n",
       "      <td>1.110510</td>\n",
       "      <td>1.135930</td>\n",
       "      <td>0.969562</td>\n",
       "      <td>0.838691</td>\n",
       "      <td>0.863600</td>\n",
       "      <td>0.897423</td>\n",
       "      <td>0.954468</td>\n",
       "      <td>1.229906</td>\n",
       "      <td>1.090252</td>\n",
       "      <td>0.948652</td>\n",
       "      <td>0.895303</td>\n",
       "      <td>0.908460</td>\n",
       "      <td>0.847646</td>\n",
       "      <td>1.012175</td>\n",
       "      <td>1.180785</td>\n",
       "      <td>1.074950</td>\n",
       "    </tr>\n",
       "    <tr>\n",
       "      <th>2</th>\n",
       "      <td>FOODS_1_001_CA_2_evaluation</td>\n",
       "      <td>0.616156</td>\n",
       "      <td>0.582824</td>\n",
       "      <td>0.587812</td>\n",
       "      <td>0.561875</td>\n",
       "      <td>0.613362</td>\n",
       "      <td>0.738510</td>\n",
       "      <td>0.722145</td>\n",
       "      <td>0.619823</td>\n",
       "      <td>0.589080</td>\n",
       "      <td>0.591409</td>\n",
       "      <td>0.598535</td>\n",
       "      <td>0.646889</td>\n",
       "      <td>0.774511</td>\n",
       "      <td>0.758658</td>\n",
       "      <td>0.611672</td>\n",
       "      <td>0.605359</td>\n",
       "      <td>0.593346</td>\n",
       "      <td>0.601365</td>\n",
       "      <td>0.658539</td>\n",
       "      <td>0.782604</td>\n",
       "      <td>0.745036</td>\n",
       "      <td>0.609966</td>\n",
       "      <td>0.530366</td>\n",
       "      <td>0.564902</td>\n",
       "      <td>0.510042</td>\n",
       "      <td>0.562653</td>\n",
       "      <td>0.665155</td>\n",
       "      <td>0.656311</td>\n",
       "    </tr>\n",
       "    <tr>\n",
       "      <th>3</th>\n",
       "      <td>FOODS_1_001_CA_2_validation</td>\n",
       "      <td>0.762699</td>\n",
       "      <td>0.807018</td>\n",
       "      <td>0.806097</td>\n",
       "      <td>0.858102</td>\n",
       "      <td>0.803699</td>\n",
       "      <td>0.857606</td>\n",
       "      <td>0.946933</td>\n",
       "      <td>0.738088</td>\n",
       "      <td>0.776827</td>\n",
       "      <td>0.784115</td>\n",
       "      <td>0.756503</td>\n",
       "      <td>0.819903</td>\n",
       "      <td>0.962438</td>\n",
       "      <td>0.869513</td>\n",
       "      <td>0.709193</td>\n",
       "      <td>0.681698</td>\n",
       "      <td>0.743500</td>\n",
       "      <td>0.700676</td>\n",
       "      <td>0.803389</td>\n",
       "      <td>0.900356</td>\n",
       "      <td>1.501148</td>\n",
       "      <td>0.989529</td>\n",
       "      <td>0.982485</td>\n",
       "      <td>0.964844</td>\n",
       "      <td>1.149449</td>\n",
       "      <td>1.183650</td>\n",
       "      <td>1.292737</td>\n",
       "      <td>1.339139</td>\n",
       "    </tr>\n",
       "    <tr>\n",
       "      <th>4</th>\n",
       "      <td>FOODS_1_001_CA_3_evaluation</td>\n",
       "      <td>0.579417</td>\n",
       "      <td>0.565830</td>\n",
       "      <td>0.573226</td>\n",
       "      <td>0.564331</td>\n",
       "      <td>0.603746</td>\n",
       "      <td>0.738614</td>\n",
       "      <td>0.743131</td>\n",
       "      <td>0.620261</td>\n",
       "      <td>0.601101</td>\n",
       "      <td>0.578996</td>\n",
       "      <td>0.588232</td>\n",
       "      <td>0.637151</td>\n",
       "      <td>0.756243</td>\n",
       "      <td>0.753085</td>\n",
       "      <td>0.598104</td>\n",
       "      <td>0.578812</td>\n",
       "      <td>0.565114</td>\n",
       "      <td>0.566713</td>\n",
       "      <td>0.637875</td>\n",
       "      <td>0.748104</td>\n",
       "      <td>0.694233</td>\n",
       "      <td>0.601730</td>\n",
       "      <td>0.527893</td>\n",
       "      <td>0.557615</td>\n",
       "      <td>0.501757</td>\n",
       "      <td>0.567426</td>\n",
       "      <td>0.689737</td>\n",
       "      <td>0.693789</td>\n",
       "    </tr>\n",
       "  </tbody>\n",
       "</table>\n",
       "</div>"
      ],
      "text/plain": [
       "                            id        F1        F2        F3        F4  \\\n",
       "0  FOODS_1_001_CA_1_evaluation  0.549203  0.531174  0.525340  0.524438   \n",
       "1  FOODS_1_001_CA_1_validation  0.850751  0.729676  0.721737  0.667754   \n",
       "2  FOODS_1_001_CA_2_evaluation  0.616156  0.582824  0.587812  0.561875   \n",
       "3  FOODS_1_001_CA_2_validation  0.762699  0.807018  0.806097  0.858102   \n",
       "4  FOODS_1_001_CA_3_evaluation  0.579417  0.565830  0.573226  0.564331   \n",
       "\n",
       "         F5        F6        F7        F8        F9       F10       F11  \\\n",
       "0  0.565583  0.682668  0.665962  0.556160  0.532513  0.494929  0.501871   \n",
       "1  0.948209  1.017752  0.905417  0.883998  0.869726  0.955560  0.929619   \n",
       "2  0.613362  0.738510  0.722145  0.619823  0.589080  0.591409  0.598535   \n",
       "3  0.803699  0.857606  0.946933  0.738088  0.776827  0.784115  0.756503   \n",
       "4  0.603746  0.738614  0.743131  0.620261  0.601101  0.578996  0.588232   \n",
       "\n",
       "        F12       F13       F14       F15       F16       F17       F18  \\\n",
       "0  0.553102  0.647764  0.627365  0.511065  0.485863  0.476014  0.485303   \n",
       "1  1.011643  1.110510  1.135930  0.969562  0.838691  0.863600  0.897423   \n",
       "2  0.646889  0.774511  0.758658  0.611672  0.605359  0.593346  0.601365   \n",
       "3  0.819903  0.962438  0.869513  0.709193  0.681698  0.743500  0.700676   \n",
       "4  0.637151  0.756243  0.753085  0.598104  0.578812  0.565114  0.566713   \n",
       "\n",
       "        F19       F20       F21       F22       F23       F24       F25  \\\n",
       "0  0.535096  0.620696  0.604984  0.491429  0.477866  0.495769  0.477019   \n",
       "1  0.954468  1.229906  1.090252  0.948652  0.895303  0.908460  0.847646   \n",
       "2  0.658539  0.782604  0.745036  0.609966  0.530366  0.564902  0.510042   \n",
       "3  0.803389  0.900356  1.501148  0.989529  0.982485  0.964844  1.149449   \n",
       "4  0.637875  0.748104  0.694233  0.601730  0.527893  0.557615  0.501757   \n",
       "\n",
       "        F26       F27       F28  \n",
       "0  0.527207  0.624394  0.595931  \n",
       "1  1.012175  1.180785  1.074950  \n",
       "2  0.562653  0.665155  0.656311  \n",
       "3  1.183650  1.292737  1.339139  \n",
       "4  0.567426  0.689737  0.693789  "
      ]
     },
     "execution_count": 14,
     "metadata": {},
     "output_type": "execute_result"
    }
   ],
   "source": [
    "sub.reset_index(inplace=True)\n",
    "sub.head()"
   ]
  },
  {
   "cell_type": "code",
   "execution_count": 16,
   "metadata": {},
   "outputs": [],
   "source": [
    "sub.to_csv('../output/sub_blend.csv',index=False)"
   ]
  },
  {
   "cell_type": "code",
   "execution_count": 23,
   "metadata": {
    "scrolled": true
   },
   "outputs": [],
   "source": [
    "sub1=pd.melt(sub1,value_name='sub1')\n",
    "sub2=pd.melt(sub2,value_name='sub2')\n",
    "sub3=pd.melt(sub3,value_name='sub3')"
   ]
  },
  {
   "cell_type": "code",
   "execution_count": 24,
   "metadata": {},
   "outputs": [],
   "source": [
    "sub = pd.concat([sub1,sub2,sub3],axis=1)"
   ]
  },
  {
   "cell_type": "code",
   "execution_count": 28,
   "metadata": {
    "scrolled": true
   },
   "outputs": [
    {
     "data": {
      "text/html": [
       "<div>\n",
       "<style scoped>\n",
       "    .dataframe tbody tr th:only-of-type {\n",
       "        vertical-align: middle;\n",
       "    }\n",
       "\n",
       "    .dataframe tbody tr th {\n",
       "        vertical-align: top;\n",
       "    }\n",
       "\n",
       "    .dataframe thead th {\n",
       "        text-align: right;\n",
       "    }\n",
       "</style>\n",
       "<table border=\"1\" class=\"dataframe\">\n",
       "  <thead>\n",
       "    <tr style=\"text-align: right;\">\n",
       "      <th></th>\n",
       "      <th>sub1</th>\n",
       "      <th>sub2</th>\n",
       "      <th>sub3</th>\n",
       "    </tr>\n",
       "  </thead>\n",
       "  <tbody>\n",
       "    <tr>\n",
       "      <th>sub1</th>\n",
       "      <td>1.000000</td>\n",
       "      <td>0.647112</td>\n",
       "      <td>-0.003475</td>\n",
       "    </tr>\n",
       "    <tr>\n",
       "      <th>sub2</th>\n",
       "      <td>0.647112</td>\n",
       "      <td>1.000000</td>\n",
       "      <td>0.007276</td>\n",
       "    </tr>\n",
       "    <tr>\n",
       "      <th>sub3</th>\n",
       "      <td>-0.003475</td>\n",
       "      <td>0.007276</td>\n",
       "      <td>1.000000</td>\n",
       "    </tr>\n",
       "  </tbody>\n",
       "</table>\n",
       "</div>"
      ],
      "text/plain": [
       "          sub1      sub2      sub3\n",
       "sub1  1.000000  0.647112 -0.003475\n",
       "sub2  0.647112  1.000000  0.007276\n",
       "sub3 -0.003475  0.007276  1.000000"
      ]
     },
     "execution_count": 28,
     "metadata": {},
     "output_type": "execute_result"
    }
   ],
   "source": [
    "sub[['sub1','sub2','sub3']].corr()"
   ]
  },
  {
   "cell_type": "code",
   "execution_count": 31,
   "metadata": {
    "scrolled": true
   },
   "outputs": [
    {
     "data": {
      "text/plain": [
       "234.5143265569"
      ]
     },
     "execution_count": 31,
     "metadata": {},
     "output_type": "execute_result"
    }
   ],
   "source": [
    "sub1.sub1.max()"
   ]
  },
  {
   "cell_type": "code",
   "execution_count": 35,
   "metadata": {},
   "outputs": [
    {
     "data": {
      "text/plain": [
       "<matplotlib.axes._subplots.AxesSubplot at 0x7f2bf46443c8>"
      ]
     },
     "execution_count": 35,
     "metadata": {},
     "output_type": "execute_result"
    },
    {
     "data": {
      "image/png": "[encoded data removed]",
      "text/plain": [
       "<Figure size 432x288 with 1 Axes>"
      ]
     },
     "metadata": {},
     "output_type": "display_data"
    }
   ],
   "source": [
    "sub3.sub3.hist(bins=255)"
   ]
  },
  {
   "cell_type": "code",
   "execution_count": null,
   "metadata": {},
   "outputs": [],
   "source": []
  }
 ],
 "metadata": {
  "kernelspec": {
   "display_name": "Python 3",
   "language": "python",
   "name": "python3"
  },
  "language_info": {
   "codemirror_mode": {
    "name": "ipython",
    "version": 3
   },
   "file_extension": ".py",
   "mimetype": "text/x-python",
   "name": "python",
   "nbconvert_exporter": "python",
   "pygments_lexer": "ipython3",
   "version": "3.6.8"
  }
 },
 "nbformat": 4,
 "nbformat_minor": 2
}
