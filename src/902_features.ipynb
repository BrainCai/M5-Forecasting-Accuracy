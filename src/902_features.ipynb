{
 "cells": [
  {
   "cell_type": "code",
   "execution_count": 1,
   "metadata": {},
   "outputs": [],
   "source": [
    "import gc\n",
    "import pandas as pd\n",
    "import numpy as np\n",
    "import os\n",
    "\n",
    "from glob import glob\n",
    "from tqdm import tqdm_notebook, tqdm\n",
    "\n",
    "pd.set_option('display.max_columns', 100)\n",
    "\n",
    "from utils import loadpkl, to_feature, line_notify\n",
    "from utils import NUM_FOLDS, FEATS_EXCLUDED, COLS_TEST1, COLS_TEST2\n",
    "from utils import CustomTimeSeriesSplitter, DAYS_PRED\n",
    "\n",
    "%matplotlib inline"
   ]
  },
  {
   "cell_type": "code",
   "execution_count": 8,
   "metadata": {},
   "outputs": [
    {
     "name": "stderr",
     "output_type": "stream",
     "text": [
      "  0%|          | 0/53 [00:00<?, ?it/s]/home/fujiwara/.pyenv/versions/anaconda3-5.2.0/lib/python3.6/site-packages/pandas/io/feather_format.py:124: FutureWarning: `nthreads` argument is deprecated, pass `use_threads` instead\n",
      "  nthreads=int_use_threads)\n",
      "/home/fujiwara/.pyenv/versions/anaconda3-5.2.0/lib/python3.6/site-packages/pyarrow/pandas_compat.py:751: FutureWarning: .labels was deprecated in version 0.24.0. Use .codes instead.\n",
      "  labels, = index.labels\n",
      "100%|██████████| 53/53 [00:08<00:00,  6.32it/s]\n"
     ]
    }
   ],
   "source": [
    "files = sorted(glob('../feats/*.feather'))\n",
    "df = pd.concat([pd.read_feather(f) for f in tqdm(files, mininterval=60)], axis=1)"
   ]
  },
  {
   "cell_type": "code",
   "execution_count": 6,
   "metadata": {},
   "outputs": [
    {
     "data": {
      "text/plain": [
       "22"
      ]
     },
     "execution_count": 6,
     "metadata": {},
     "output_type": "execute_result"
    }
   ],
   "source": [
    "df = df[df['date']>'2014-04-25']\n",
    "\n",
    "# split train & test\n",
    "train_df = df[df['date']<'2016-04-25']\n",
    "test_df = df[df['date']>='2016-04-25']\n",
    "del df\n",
    "gc.collect()"
   ]
  },
  {
   "cell_type": "code",
   "execution_count": 13,
   "metadata": {
    "scrolled": true
   },
   "outputs": [],
   "source": [
    "folds = CustomTimeSeriesSplitter(n_splits=5, train_days=365*2, test_days=DAYS_PRED, day_col='d_numeric')"
   ]
  },
  {
   "cell_type": "code",
   "execution_count": 14,
   "metadata": {
    "scrolled": true
   },
   "outputs": [
    {
     "name": "stdout",
     "output_type": "stream",
     "text": [
      "0 (array([24218688, 24218689, 24218690, ..., 41675044, 41675045, 41675046]), array([41675047, 41675048, 41675049, ..., 42528117, 42528118, 42528119]))\n",
      "1 (array([24218688, 24218689, 24218690, ..., 42528117, 42528118, 42528119]), array([42528120, 42528121, 42528122, ..., 43381454, 43381455, 43381456]))\n",
      "2 (array([24218688, 24218689, 24218690, ..., 43381454, 43381455, 43381456]), array([43381457, 43381458, 43381459, ..., 44235057, 44235058, 44235059]))\n",
      "3 (array([24218688, 24218689, 24218690, ..., 44235057, 44235058, 44235059]), array([44235060, 44235061, 44235062, ..., 45088777, 45088778, 45088779]))\n",
      "4 (array([24218688, 24218689, 24218690, ..., 45088777, 45088778, 45088779]), array([45088780, 45088781, 45088782, ..., 45942497, 45942498, 45942499]))\n"
     ]
    }
   ],
   "source": [
    "for n_fold, (train_idx, valid_idx) in enumerate(folds.split(train_df)):\n",
    "    print(n_fold, (train_idx, valid_idx))"
   ]
  },
  {
   "cell_type": "code",
   "execution_count": 6,
   "metadata": {
    "scrolled": true
   },
   "outputs": [],
   "source": [
    "# set id as index\n",
    "df.set_index('id', inplace=True)\n",
    "\n",
    "# sort by date\n",
    "df.sort_values('date',inplace=True)"
   ]
  },
  {
   "cell_type": "code",
   "execution_count": 10,
   "metadata": {
    "scrolled": true
   },
   "outputs": [
    {
     "data": {
      "text/plain": [
       "11"
      ]
     },
     "execution_count": 10,
     "metadata": {},
     "output_type": "execute_result"
    }
   ],
   "source": [
    "df = df[df['date']>'2014-04-25']\n",
    "\n",
    "# split train & test\n",
    "#=======================================================================\n",
    "# 2011-01-29 ~ 2016-04-24 : d_1    ~ d_1913\n",
    "# 2016-04-25 ~ 2016-05-22 : d_1914 ~ d_1941 (public)\n",
    "# 2016-05-23 ~ 2016-06-19 : d_1942 ~ d_1969 (private)\n",
    "#=======================================================================\n",
    "\n",
    "train_df = df[df['date']<'2016-04-25']\n",
    "test_df = df[df['date']>='2016-04-25']\n",
    "\n",
    "del df\n",
    "gc.collect()"
   ]
  },
  {
   "cell_type": "code",
   "execution_count": 18,
   "metadata": {
    "scrolled": true
   },
   "outputs": [
    {
     "data": {
      "text/plain": [
       "1184"
      ]
     },
     "execution_count": 18,
     "metadata": {},
     "output_type": "execute_result"
    }
   ],
   "source": [
    "train_df['d_numeric'].iloc[0]"
   ]
  },
  {
   "cell_type": "code",
   "execution_count": null,
   "metadata": {},
   "outputs": [],
   "source": []
  }
 ],
 "metadata": {
  "kernelspec": {
   "display_name": "Python 3",
   "language": "python",
   "name": "python3"
  },
  "language_info": {
   "codemirror_mode": {
    "name": "ipython",
    "version": 3
   },
   "file_extension": ".py",
   "mimetype": "text/x-python",
   "name": "python",
   "nbconvert_exporter": "python",
   "pygments_lexer": "ipython3",
   "version": "3.6.8"
  }
 },
 "nbformat": 4,
 "nbformat_minor": 2
}
